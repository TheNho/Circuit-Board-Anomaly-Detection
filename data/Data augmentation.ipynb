{
 "cells": [
  {
   "cell_type": "code",
   "execution_count": 1,
   "id": "7eeec89a",
   "metadata": {},
   "outputs": [],
   "source": [
    "from data_augmentation import data_augmentation"
   ]
  },
  {
   "cell_type": "code",
   "execution_count": 2,
   "id": "5b3cb426",
   "metadata": {},
   "outputs": [],
   "source": [
    "# Khởi tạo\n",
    "aug = data_augmentation(image_train_folder = 'dataset/ReLay Module/good', #đường dẩn tới folder chứa ảnh good để train\n",
    "                        hgain = 0.05, # Mấy thông số phía sau em khỏi khai báo cũng được, trong code anh có mặc định rồi\n",
    "                        sgain = 0.5,\n",
    "                        vgain = 0.5,\n",
    "                        noise_mean = 0,\n",
    "                        noise_std = 70,\n",
    "                        max_angle_rotate = 10,\n",
    "                        shift_height_ratio=0.1,\n",
    "                        shift_width_ratio=0.1)"
   ]
  },
  {
   "cell_type": "code",
   "execution_count": 3,
   "id": "b92c3217",
   "metadata": {},
   "outputs": [
    {
     "data": {
      "text/plain": [
       "36"
      ]
     },
     "execution_count": 3,
     "metadata": {},
     "output_type": "execute_result"
    }
   ],
   "source": [
    "aug.num_image"
   ]
  },
  {
   "cell_type": "code",
   "execution_count": 4,
   "id": "fddc1b59",
   "metadata": {},
   "outputs": [],
   "source": [
    "import cv2\n",
    "img = cv2.imread(aug.list_img_files[0])"
   ]
  },
  {
   "cell_type": "code",
   "execution_count": 5,
   "id": "b25448ad",
   "metadata": {},
   "outputs": [
    {
     "data": {
      "text/plain": [
       "(3288, 4608, 3)"
      ]
     },
     "execution_count": 5,
     "metadata": {},
     "output_type": "execute_result"
    }
   ],
   "source": [
    "img.shape"
   ]
  },
  {
   "cell_type": "code",
   "execution_count": 6,
   "id": "4f151d64",
   "metadata": {},
   "outputs": [
    {
     "name": "stderr",
     "output_type": "stream",
     "text": [
      "100%|████████████████████████████████████████████████████████████████████████████████| 200/200 [34:48<00:00, 10.44s/it]\n"
     ]
    }
   ],
   "source": [
    "# Chạy\n",
    "aug.run(num_images_gen = 200, # số lượng ảnh cần sinh ra\n",
    "        save_folder = 'data_aug', # folder chứa ảnh sinh ra\n",
    "        p_hsv = 0.5, # các xác suất áp dụng biến đổi ảnh, \n",
    "        p_noise =  0.25, # không áp dụng cái nào em để cái đó p=0 nha\n",
    "        p_flip0 = 0.5,\n",
    "        p_flip1 = 0.5,\n",
    "        p_rotate = 0.25,\n",
    "        p_shift = 0.5)"
   ]
  },
  {
   "cell_type": "code",
   "execution_count": null,
   "id": "6a484360",
   "metadata": {},
   "outputs": [],
   "source": []
  }
 ],
 "metadata": {
  "kernelspec": {
   "display_name": "Python 3 (ipykernel)",
   "language": "python",
   "name": "python3"
  },
  "language_info": {
   "codemirror_mode": {
    "name": "ipython",
    "version": 3
   },
   "file_extension": ".py",
   "mimetype": "text/x-python",
   "name": "python",
   "nbconvert_exporter": "python",
   "pygments_lexer": "ipython3",
   "version": "3.10.10"
  },
  "vscode": {
   "interpreter": {
    "hash": "650a87d2c2d58a1b20fa1b6505880ff89c18c8e6c61506bbbfe5d1103e3c2582"
   }
  }
 },
 "nbformat": 4,
 "nbformat_minor": 5
}
