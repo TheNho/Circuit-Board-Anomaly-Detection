{
 "cells": [
  {
   "cell_type": "code",
   "execution_count": 3,
   "id": "7eeec89a",
   "metadata": {},
   "outputs": [],
   "source": [
    "from data_augmentation import data_augmentation"
   ]
  },
  {
   "cell_type": "code",
   "execution_count": 4,
   "id": "5b3cb426",
   "metadata": {},
   "outputs": [],
   "source": [
    "# Khởi tạo\n",
    "aug = data_augmentation(image_train_folder = 'test_img', #đường dẩn tới folder chứa ảnh good để train\n",
    "                        hgain = 0.05, # Mấy thông số phía sau em khỏi khai báo cũng được, trong code anh có mặc định rồi\n",
    "                        sgain = 0.5,\n",
    "                        vgain = 0.5,\n",
    "                        noise_mean = 0,\n",
    "                        noise_std = 150,\n",
    "                        max_angle_rotate = 10)"
   ]
  },
  {
   "cell_type": "code",
   "execution_count": 5,
   "id": "4f151d64",
   "metadata": {},
   "outputs": [
    {
     "name": "stderr",
     "output_type": "stream",
     "text": [
      "100%|██████████████████████████████████████████████████████████████████████████████████| 10/10 [00:42<00:00,  4.22s/it]\n"
     ]
    }
   ],
   "source": [
    "# Chạy\n",
    "aug.run(num_images_gen = 10, # số lượng ảnh cần sinh ra\n",
    "        save_folder = 'data_aug', # folder chứa ảnh sinh ra\n",
    "        p_hsv = 0.5, # các xác suất áp dụng biến đổi ảnh, \n",
    "        p_noise =  0.5, # không áp dụng cái nào em để cái đó p=0 nha\n",
    "        p_flip0 = 0.5,\n",
    "        p_flip1 = 0.5,\n",
    "        p_rotate =  0.5)"
   ]
  },
  {
   "cell_type": "code",
   "execution_count": null,
   "id": "d13a07f4",
   "metadata": {},
   "outputs": [],
   "source": []
  }
 ],
 "metadata": {
  "kernelspec": {
   "display_name": "Python 3 (ipykernel)",
   "language": "python",
   "name": "python3"
  },
  "language_info": {
   "codemirror_mode": {
    "name": "ipython",
    "version": 3
   },
   "file_extension": ".py",
   "mimetype": "text/x-python",
   "name": "python",
   "nbconvert_exporter": "python",
   "pygments_lexer": "ipython3",
   "version": "3.10.10"
  }
 },
 "nbformat": 4,
 "nbformat_minor": 5
}
